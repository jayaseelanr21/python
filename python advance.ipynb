{
 "cells": [
  {
   "cell_type": "code",
   "execution_count": 1,
   "id": "584ba620",
   "metadata": {},
   "outputs": [
    {
     "name": "stdout",
     "output_type": "stream",
     "text": [
      "enter the word:name\n",
      "raj\n"
     ]
    }
   ],
   "source": [
    "dictionary = {'name':'raj','age':'20'}\n",
    "word = input('enter the word:')\n",
    "\n",
    "def check(d):\n",
    "    return dictionary[d] #----> check the dict\n",
    "print(check(word))"
   ]
  },
  {
   "cell_type": "code",
   "execution_count": 2,
   "id": "3c678ced",
   "metadata": {},
   "outputs": [],
   "source": [
    "import json"
   ]
  },
  {
   "cell_type": "code",
   "execution_count": 6,
   "id": "88c07d42",
   "metadata": {},
   "outputs": [
    {
     "name": "stdout",
     "output_type": "stream",
     "text": [
      "enter the word:age\n",
      "20\n"
     ]
    }
   ],
   "source": [
    "#dictionary = {'name':'raj','age':'20'}\n",
    "import json\n",
    "\n",
    "jsonfile = json.load(open('data.json'))\n",
    "\n",
    "word = input('enter the word:')\n",
    "def check(d):\n",
    "    return jsonfile[d] #----> check the dict\n",
    "print(check(word))"
   ]
  },
  {
   "cell_type": "code",
   "execution_count": 7,
   "id": "4b5baad8",
   "metadata": {},
   "outputs": [
    {
     "name": "stdout",
     "output_type": "stream",
     "text": [
      "enter the word:adf\n",
      "the word dosent exist,please enter the correct word\n"
     ]
    }
   ],
   "source": [
    "#dictionary = {'name':'raj','age':'20'}\n",
    "import json\n",
    "\n",
    "jsonfile = json.load(open('data.json'))\n",
    "\n",
    "word = input('enter the word:')\n",
    "def check(d):\n",
    "    if d in jsonfile:\n",
    "        return jsonfile[d] #----> check the dict\n",
    "    else:\n",
    "        return 'the word dosent exist,please enter the correct word'\n",
    "print(check(word))"
   ]
  },
  {
   "cell_type": "code",
   "execution_count": 8,
   "id": "f86ca055",
   "metadata": {},
   "outputs": [
    {
     "name": "stdout",
     "output_type": "stream",
     "text": [
      "enter the word:age\n",
      "20\n"
     ]
    }
   ],
   "source": [
    "#dictionary = {'name':'raj','age':'20'}\n",
    "import json\n",
    "\n",
    "jsonfile = json.load(open('data.json'))\n",
    "\n",
    "word = input('enter the word:')\n",
    "def check(d):\n",
    "    if d in jsonfile:\n",
    "        return jsonfile[d] #----> check the dict\n",
    "    else:\n",
    "        return 'the word dosent exist,please enter the correct word'\n",
    "print(check(word))"
   ]
  },
  {
   "cell_type": "code",
   "execution_count": 10,
   "id": "e5ecfa2e",
   "metadata": {},
   "outputs": [
    {
     "name": "stdout",
     "output_type": "stream",
     "text": [
      "enter the word:AGE\n",
      "20\n"
     ]
    }
   ],
   "source": [
    "#dictionary = {'name':'raj','age':'20'}\n",
    "import json\n",
    "\n",
    "jsonfile = json.load(open('data.json')) #--> json file la one value na []podathevaila more than one na []podanum\n",
    "\n",
    "word = input('enter the word:')\n",
    "def check(d):\n",
    "    d = d.lower()#-----> word capital la kuduthalum ans varum\n",
    "    if d in jsonfile:\n",
    "        return jsonfile[d] #----> check the dict\n",
    "    else:\n",
    "        return 'the word dosent exist,please enter the correct word'\n",
    "print(check(word))"
   ]
  },
  {
   "cell_type": "code",
   "execution_count": 21,
   "id": "7eeb5040",
   "metadata": {},
   "outputs": [
    {
     "name": "stdout",
     "output_type": "stream",
     "text": [
      "enter the word:ag\n",
      "did you mean age\n"
     ]
    }
   ],
   "source": [
    " #dictionary = {'name':'raj','age':'20'}\n",
    "import json\n",
    "from difflib import get_close_matches\n",
    "\n",
    "jsonfile = json.load(open('data.json'))\n",
    "\n",
    "word = input('enter the word:')\n",
    "def check(d):\n",
    "    if d in jsonfile:\n",
    "        return jsonfile[d] #----> check the dict\n",
    "    elif len(get_close_matches(d,jsonfile.keys()))>0:\n",
    "        return 'did you mean %s'% get_close_matches(d,jsonfile.keys())[0]                                \n",
    "    else:\n",
    "        return 'the word dosent exist,please enter the correct word'\n",
    "print(check(word))"
   ]
  },
  {
   "cell_type": "code",
   "execution_count": 22,
   "id": "55e55370",
   "metadata": {},
   "outputs": [
    {
     "name": "stdout",
     "output_type": "stream",
     "text": [
      "enter the word:ag\n",
      "did you mean ['age'], enter y for yes,n for noy\n",
      "20\n"
     ]
    }
   ],
   "source": [
    " #dictionary = {'name':'raj','age':'20'}\n",
    "import json\n",
    "from difflib import get_close_matches\n",
    "\n",
    "jsonfile = json.load(open('data.json'))\n",
    "\n",
    "word = input('enter the word:')\n",
    "def check(d):\n",
    "    if d in jsonfile:\n",
    "        return jsonfile[d] #----> check the dict\n",
    "    elif len(get_close_matches(d,jsonfile.keys()))>0:\n",
    "        choice = input('did you mean %s, enter y for yes,n for no'% get_close_matches(d,jsonfile.keys()))[0]\n",
    "        if choice == 'y' or 'Y':\n",
    "                  return jsonfile[get_close_matches(d,jsonfile.keys())[0]]\n",
    "        elif choice == 'n' or 'N':\n",
    "                  return 'the word dosent exist,please enter the correct word'\n",
    "        else:\n",
    "                  return 'you entered wrong choice'\n",
    "                                   \n",
    "    else:\n",
    "        return 'the word dosent exist,please enter the correct word'\n",
    "print(check(word))"
   ]
  },
  {
   "cell_type": "code",
   "execution_count": 24,
   "id": "c215e2c3",
   "metadata": {},
   "outputs": [
    {
     "ename": "JSONDecodeError",
     "evalue": "Expecting ',' delimiter: line 3 column 5 (char 30)",
     "output_type": "error",
     "traceback": [
      "\u001b[1;31m---------------------------------------------------------------------------\u001b[0m",
      "\u001b[1;31mJSONDecodeError\u001b[0m                           Traceback (most recent call last)",
      "\u001b[1;32m~\\AppData\\Local\\Temp/ipykernel_7468/1422430083.py\u001b[0m in \u001b[0;36m<module>\u001b[1;34m\u001b[0m\n\u001b[0;32m      3\u001b[0m \u001b[1;32mfrom\u001b[0m \u001b[0mdifflib\u001b[0m \u001b[1;32mimport\u001b[0m \u001b[0mget_close_matches\u001b[0m\u001b[1;33m\u001b[0m\u001b[1;33m\u001b[0m\u001b[0m\n\u001b[0;32m      4\u001b[0m \u001b[1;33m\u001b[0m\u001b[0m\n\u001b[1;32m----> 5\u001b[1;33m \u001b[0mjsonfile\u001b[0m \u001b[1;33m=\u001b[0m \u001b[0mjson\u001b[0m\u001b[1;33m.\u001b[0m\u001b[0mload\u001b[0m\u001b[1;33m(\u001b[0m\u001b[0mopen\u001b[0m\u001b[1;33m(\u001b[0m\u001b[1;34m'data.json'\u001b[0m\u001b[1;33m)\u001b[0m\u001b[1;33m)\u001b[0m\u001b[1;33m\u001b[0m\u001b[1;33m\u001b[0m\u001b[0m\n\u001b[0m\u001b[0;32m      6\u001b[0m \u001b[1;33m\u001b[0m\u001b[0m\n\u001b[0;32m      7\u001b[0m \u001b[0mword\u001b[0m \u001b[1;33m=\u001b[0m \u001b[0minput\u001b[0m\u001b[1;33m(\u001b[0m\u001b[1;34m'enter the word:'\u001b[0m\u001b[1;33m)\u001b[0m\u001b[1;33m\u001b[0m\u001b[1;33m\u001b[0m\u001b[0m\n",
      "\u001b[1;32m~\\AppData\\Local\\Programs\\Python\\Python310\\lib\\json\\__init__.py\u001b[0m in \u001b[0;36mload\u001b[1;34m(fp, cls, object_hook, parse_float, parse_int, parse_constant, object_pairs_hook, **kw)\u001b[0m\n\u001b[0;32m    291\u001b[0m     \u001b[0mkwarg\u001b[0m\u001b[1;33m;\u001b[0m \u001b[0motherwise\u001b[0m\u001b[0;31m \u001b[0m\u001b[0;31m`\u001b[0m\u001b[0;31m`\u001b[0m\u001b[0mJSONDecoder\u001b[0m\u001b[0;31m`\u001b[0m\u001b[0;31m`\u001b[0m \u001b[1;32mis\u001b[0m \u001b[0mused\u001b[0m\u001b[1;33m.\u001b[0m\u001b[1;33m\u001b[0m\u001b[1;33m\u001b[0m\u001b[0m\n\u001b[0;32m    292\u001b[0m     \"\"\"\n\u001b[1;32m--> 293\u001b[1;33m     return loads(fp.read(),\n\u001b[0m\u001b[0;32m    294\u001b[0m         \u001b[0mcls\u001b[0m\u001b[1;33m=\u001b[0m\u001b[0mcls\u001b[0m\u001b[1;33m,\u001b[0m \u001b[0mobject_hook\u001b[0m\u001b[1;33m=\u001b[0m\u001b[0mobject_hook\u001b[0m\u001b[1;33m,\u001b[0m\u001b[1;33m\u001b[0m\u001b[1;33m\u001b[0m\u001b[0m\n\u001b[0;32m    295\u001b[0m         \u001b[0mparse_float\u001b[0m\u001b[1;33m=\u001b[0m\u001b[0mparse_float\u001b[0m\u001b[1;33m,\u001b[0m \u001b[0mparse_int\u001b[0m\u001b[1;33m=\u001b[0m\u001b[0mparse_int\u001b[0m\u001b[1;33m,\u001b[0m\u001b[1;33m\u001b[0m\u001b[1;33m\u001b[0m\u001b[0m\n",
      "\u001b[1;32m~\\AppData\\Local\\Programs\\Python\\Python310\\lib\\json\\__init__.py\u001b[0m in \u001b[0;36mloads\u001b[1;34m(s, cls, object_hook, parse_float, parse_int, parse_constant, object_pairs_hook, **kw)\u001b[0m\n\u001b[0;32m    344\u001b[0m             \u001b[0mparse_int\u001b[0m \u001b[1;32mis\u001b[0m \u001b[1;32mNone\u001b[0m \u001b[1;32mand\u001b[0m \u001b[0mparse_float\u001b[0m \u001b[1;32mis\u001b[0m \u001b[1;32mNone\u001b[0m \u001b[1;32mand\u001b[0m\u001b[1;33m\u001b[0m\u001b[1;33m\u001b[0m\u001b[0m\n\u001b[0;32m    345\u001b[0m             parse_constant is None and object_pairs_hook is None and not kw):\n\u001b[1;32m--> 346\u001b[1;33m         \u001b[1;32mreturn\u001b[0m \u001b[0m_default_decoder\u001b[0m\u001b[1;33m.\u001b[0m\u001b[0mdecode\u001b[0m\u001b[1;33m(\u001b[0m\u001b[0ms\u001b[0m\u001b[1;33m)\u001b[0m\u001b[1;33m\u001b[0m\u001b[1;33m\u001b[0m\u001b[0m\n\u001b[0m\u001b[0;32m    347\u001b[0m     \u001b[1;32mif\u001b[0m \u001b[0mcls\u001b[0m \u001b[1;32mis\u001b[0m \u001b[1;32mNone\u001b[0m\u001b[1;33m:\u001b[0m\u001b[1;33m\u001b[0m\u001b[1;33m\u001b[0m\u001b[0m\n\u001b[0;32m    348\u001b[0m         \u001b[0mcls\u001b[0m \u001b[1;33m=\u001b[0m \u001b[0mJSONDecoder\u001b[0m\u001b[1;33m\u001b[0m\u001b[1;33m\u001b[0m\u001b[0m\n",
      "\u001b[1;32m~\\AppData\\Local\\Programs\\Python\\Python310\\lib\\json\\decoder.py\u001b[0m in \u001b[0;36mdecode\u001b[1;34m(self, s, _w)\u001b[0m\n\u001b[0;32m    335\u001b[0m \u001b[1;33m\u001b[0m\u001b[0m\n\u001b[0;32m    336\u001b[0m         \"\"\"\n\u001b[1;32m--> 337\u001b[1;33m         \u001b[0mobj\u001b[0m\u001b[1;33m,\u001b[0m \u001b[0mend\u001b[0m \u001b[1;33m=\u001b[0m \u001b[0mself\u001b[0m\u001b[1;33m.\u001b[0m\u001b[0mraw_decode\u001b[0m\u001b[1;33m(\u001b[0m\u001b[0ms\u001b[0m\u001b[1;33m,\u001b[0m \u001b[0midx\u001b[0m\u001b[1;33m=\u001b[0m\u001b[0m_w\u001b[0m\u001b[1;33m(\u001b[0m\u001b[0ms\u001b[0m\u001b[1;33m,\u001b[0m \u001b[1;36m0\u001b[0m\u001b[1;33m)\u001b[0m\u001b[1;33m.\u001b[0m\u001b[0mend\u001b[0m\u001b[1;33m(\u001b[0m\u001b[1;33m)\u001b[0m\u001b[1;33m)\u001b[0m\u001b[1;33m\u001b[0m\u001b[1;33m\u001b[0m\u001b[0m\n\u001b[0m\u001b[0;32m    338\u001b[0m         \u001b[0mend\u001b[0m \u001b[1;33m=\u001b[0m \u001b[0m_w\u001b[0m\u001b[1;33m(\u001b[0m\u001b[0ms\u001b[0m\u001b[1;33m,\u001b[0m \u001b[0mend\u001b[0m\u001b[1;33m)\u001b[0m\u001b[1;33m.\u001b[0m\u001b[0mend\u001b[0m\u001b[1;33m(\u001b[0m\u001b[1;33m)\u001b[0m\u001b[1;33m\u001b[0m\u001b[1;33m\u001b[0m\u001b[0m\n\u001b[0;32m    339\u001b[0m         \u001b[1;32mif\u001b[0m \u001b[0mend\u001b[0m \u001b[1;33m!=\u001b[0m \u001b[0mlen\u001b[0m\u001b[1;33m(\u001b[0m\u001b[0ms\u001b[0m\u001b[1;33m)\u001b[0m\u001b[1;33m:\u001b[0m\u001b[1;33m\u001b[0m\u001b[1;33m\u001b[0m\u001b[0m\n",
      "\u001b[1;32m~\\AppData\\Local\\Programs\\Python\\Python310\\lib\\json\\decoder.py\u001b[0m in \u001b[0;36mraw_decode\u001b[1;34m(self, s, idx)\u001b[0m\n\u001b[0;32m    351\u001b[0m         \"\"\"\n\u001b[0;32m    352\u001b[0m         \u001b[1;32mtry\u001b[0m\u001b[1;33m:\u001b[0m\u001b[1;33m\u001b[0m\u001b[1;33m\u001b[0m\u001b[0m\n\u001b[1;32m--> 353\u001b[1;33m             \u001b[0mobj\u001b[0m\u001b[1;33m,\u001b[0m \u001b[0mend\u001b[0m \u001b[1;33m=\u001b[0m \u001b[0mself\u001b[0m\u001b[1;33m.\u001b[0m\u001b[0mscan_once\u001b[0m\u001b[1;33m(\u001b[0m\u001b[0ms\u001b[0m\u001b[1;33m,\u001b[0m \u001b[0midx\u001b[0m\u001b[1;33m)\u001b[0m\u001b[1;33m\u001b[0m\u001b[1;33m\u001b[0m\u001b[0m\n\u001b[0m\u001b[0;32m    354\u001b[0m         \u001b[1;32mexcept\u001b[0m \u001b[0mStopIteration\u001b[0m \u001b[1;32mas\u001b[0m \u001b[0merr\u001b[0m\u001b[1;33m:\u001b[0m\u001b[1;33m\u001b[0m\u001b[1;33m\u001b[0m\u001b[0m\n\u001b[0;32m    355\u001b[0m             \u001b[1;32mraise\u001b[0m \u001b[0mJSONDecodeError\u001b[0m\u001b[1;33m(\u001b[0m\u001b[1;34m\"Expecting value\"\u001b[0m\u001b[1;33m,\u001b[0m \u001b[0ms\u001b[0m\u001b[1;33m,\u001b[0m \u001b[0merr\u001b[0m\u001b[1;33m.\u001b[0m\u001b[0mvalue\u001b[0m\u001b[1;33m)\u001b[0m \u001b[1;32mfrom\u001b[0m \u001b[1;32mNone\u001b[0m\u001b[1;33m\u001b[0m\u001b[1;33m\u001b[0m\u001b[0m\n",
      "\u001b[1;31mJSONDecodeError\u001b[0m: Expecting ',' delimiter: line 3 column 5 (char 30)"
     ]
    }
   ],
   "source": [
    " #dictionary = {'name':'raj','age':'20'}\n",
    "import json\n",
    "from difflib import get_close_matches\n",
    "\n",
    "jsonfile = json.load(open('data.json'))\n",
    "\n",
    "word = input('enter the word:')\n",
    "def check(d):\n",
    "    if d in jsonfile:\n",
    "        return jsonfile[d] #----> check the dict\n",
    "    elif len(get_close_matches(d,jsonfile.keys()))>0:\n",
    "        choice = input('did you mean %s, enter y for yes,n for no'% get_close_matches(d,jsonfile.keys()))[0]\n",
    "        if choice == 'y' or 'Y':\n",
    "                  return jsonfile[get_close_matches(d,jsonfile.keys())[0]]\n",
    "        elif choice == 'n' or 'N':\n",
    "                  return 'the word dosent exist,please enter the correct word'\n",
    "        else:\n",
    "                  return 'you entered wrong choice'\n",
    "                                   \n",
    "    else:\n",
    "        return 'the word dosent exist,please enter the correct word'\n",
    "result = (check(word))\n",
    "if type (result) ==list:\n",
    "    for i in result:\n",
    "        print(i)\n"
   ]
  },
  {
   "cell_type": "code",
   "execution_count": null,
   "id": "d8f9309f",
   "metadata": {},
   "outputs": [],
   "source": []
  },
  {
   "cell_type": "code",
   "execution_count": null,
   "id": "892eed8f",
   "metadata": {},
   "outputs": [],
   "source": []
  }
 ],
 "metadata": {
  "kernelspec": {
   "display_name": "Python 3 (ipykernel)",
   "language": "python",
   "name": "python3"
  },
  "language_info": {
   "codemirror_mode": {
    "name": "ipython",
    "version": 3
   },
   "file_extension": ".py",
   "mimetype": "text/x-python",
   "name": "python",
   "nbconvert_exporter": "python",
   "pygments_lexer": "ipython3",
   "version": "3.10.1"
  }
 },
 "nbformat": 4,
 "nbformat_minor": 5
}
