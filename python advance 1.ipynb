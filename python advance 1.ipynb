{
 "cells": [
  {
   "cell_type": "code",
   "execution_count": 1,
   "id": "cecd786b",
   "metadata": {},
   "outputs": [
    {
     "name": "stdout",
     "output_type": "stream",
     "text": [
      "10\n",
      "Hello\n"
     ]
    }
   ],
   "source": [
    "class Myclass:\n",
    "    a = 10\n",
    "    def func(self):\n",
    "        return('Hello')\n",
    "#instantiate an object\n",
    "ob = Myclass()\n",
    "print(ob.a)\n",
    "print(ob.func())"
   ]
  },
  {
   "cell_type": "code",
   "execution_count": 2,
   "id": "a8de3ea5",
   "metadata": {},
   "outputs": [
    {
     "name": "stdout",
     "output_type": "stream",
     "text": [
      "10\n",
      "10\n",
      "0\n",
      "100\n"
     ]
    }
   ],
   "source": [
    "class Myclass:\n",
    "    a = 10\n",
    "    def func(self):\n",
    "        return('Hello')\n",
    "ob1 = Myclass()\n",
    "ob2 = Myclass()\n",
    "print(ob1.a)\n",
    "print(ob2.a)\n",
    "ob1.a = 0\n",
    "ob2.a = 100\n",
    "print(ob1.a)\n",
    "print(ob2.a)"
   ]
  },
  {
   "cell_type": "code",
   "execution_count": 3,
   "id": "99f075c8",
   "metadata": {},
   "outputs": [
    {
     "name": "stdout",
     "output_type": "stream",
     "text": [
      "10\n"
     ]
    }
   ],
   "source": [
    "class Myclass:\n",
    "    a = 10\n",
    "    def func(self):\n",
    "        return('Hello')\n",
    "print(Myclass.a)"
   ]
  },
  {
   "cell_type": "code",
   "execution_count": 4,
   "id": "c2731958",
   "metadata": {},
   "outputs": [
    {
     "name": "stdout",
     "output_type": "stream",
     "text": [
      "Hello\n"
     ]
    }
   ],
   "source": [
    "class Myclass:\n",
    "    a = 10\n",
    "    def func(self):\n",
    "        return('Hello')\n",
    "ob = Myclass()\n",
    "print(ob.func())"
   ]
  },
  {
   "cell_type": "code",
   "execution_count": 5,
   "id": "c8a09e90",
   "metadata": {},
   "outputs": [
    {
     "name": "stdout",
     "output_type": "stream",
     "text": [
      "5\n",
      "6\n"
     ]
    }
   ],
   "source": [
    "class Number:\n",
    "    def add(self,a,b):\n",
    "        return a+b\n",
    "    def mul(self,a,b):\n",
    "        return a*b\n",
    "n1 = Number()\n",
    "sum = n1.add(2,3)\n",
    "print(sum)\n",
    "product = n1.mul(2,3)\n",
    "print(product)"
   ]
  },
  {
   "cell_type": "code",
   "execution_count": 6,
   "id": "b89ebc91",
   "metadata": {},
   "outputs": [
    {
     "name": "stdout",
     "output_type": "stream",
     "text": [
      "2 3\n",
      "0 0\n"
     ]
    }
   ],
   "source": [
    "class Myclass:\n",
    "    def __init__(self,p1=0,p2=0):\n",
    "        self.a = p1\n",
    "        self.b = p2\n",
    "c= Myclass(2,3)\n",
    "print(c.a,c.b)\n",
    "c1 = Myclass()\n",
    "print(c1.a,c1.b)"
   ]
  },
  {
   "cell_type": "code",
   "execution_count": 7,
   "id": "6ee66088",
   "metadata": {},
   "outputs": [
    {
     "name": "stdout",
     "output_type": "stream",
     "text": [
      "10.0\n"
     ]
    }
   ],
   "source": [
    "class point:\n",
    "    def __init__(self,x=0,y=0):\n",
    "        self.x = x\n",
    "        self.y = y\n",
    "    def distance(self):\n",
    "        return (self.x**2+self.y**2)**0.5\n",
    "p1 = point(6,8)\n",
    "distance = p1.distance()\n",
    "print(distance)"
   ]
  },
  {
   "cell_type": "code",
   "execution_count": 8,
   "id": "c9345144",
   "metadata": {},
   "outputs": [
    {
     "name": "stdout",
     "output_type": "stream",
     "text": [
      "ananth 10\n",
      "ram 20\n"
     ]
    }
   ],
   "source": [
    "class student:\n",
    "    def __init__(self,name,age,rollno,dob):\n",
    "        self.name = name\n",
    "        self.age = age\n",
    "        self.rollno = rollno\n",
    "        self.dob = dob\n",
    "stu1 = student('ananth',10,100,'chennai')\n",
    "stu2 = student('ram',20,200,'cbe')\n",
    "print(stu1.name,stu1.age)\n",
    "print(stu2.name,stu2.age)"
   ]
  },
  {
   "cell_type": "markdown",
   "id": "97ab72bc",
   "metadata": {},
   "source": [
    "# INHERITANCE\n"
   ]
  },
  {
   "cell_type": "code",
   "execution_count": 9,
   "id": "396ae11a",
   "metadata": {},
   "outputs": [],
   "source": [
    "#SYNTAX\n",
    "#class baseclass:\n",
    "    #body of the base class\n",
    "#class derivedclass(baseclass):\n",
    "    #body of the derived class"
   ]
  },
  {
   "cell_type": "code",
   "execution_count": null,
   "id": "6374568d",
   "metadata": {},
   "outputs": [],
   "source": []
  },
  {
   "cell_type": "code",
   "execution_count": null,
   "id": "23a04958",
   "metadata": {},
   "outputs": [],
   "source": []
  },
  {
   "cell_type": "code",
   "execution_count": null,
   "id": "94352021",
   "metadata": {},
   "outputs": [],
   "source": []
  },
  {
   "cell_type": "code",
   "execution_count": null,
   "id": "22873945",
   "metadata": {},
   "outputs": [],
   "source": []
  },
  {
   "cell_type": "code",
   "execution_count": null,
   "id": "12706fb3",
   "metadata": {},
   "outputs": [],
   "source": []
  }
 ],
 "metadata": {
  "kernelspec": {
   "display_name": "Python 3 (ipykernel)",
   "language": "python",
   "name": "python3"
  },
  "language_info": {
   "codemirror_mode": {
    "name": "ipython",
    "version": 3
   },
   "file_extension": ".py",
   "mimetype": "text/x-python",
   "name": "python",
   "nbconvert_exporter": "python",
   "pygments_lexer": "ipython3",
   "version": "3.10.1"
  }
 },
 "nbformat": 4,
 "nbformat_minor": 5
}
