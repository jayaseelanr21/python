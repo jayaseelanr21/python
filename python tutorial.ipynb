{
 "cells": [
  {
   "cell_type": "markdown",
   "id": "59a17561",
   "metadata": {},
   "source": [
    "###### NUMBERS\n",
    " 1,2,3 --> integers\n",
    " 0.1,0.4 -->Float\n",
    " 5+3j --> Complex \n",
    " +,-,*,/, remainder = % or //,power = **"
   ]
  },
  {
   "cell_type": "code",
   "execution_count": 1,
   "id": "9e0a310d",
   "metadata": {},
   "outputs": [
    {
     "name": "stdout",
     "output_type": "stream",
     "text": [
      "500\n"
     ]
    }
   ],
   "source": [
    "#VARIABLES --> A-z,a-z,,,,SPECIAL CHARACTERS---> _ , . , ! , ,\n",
    "watch = 500\n",
    "print(watch)\n"
   ]
  },
  {
   "cell_type": "code",
   "execution_count": 2,
   "id": "f9cc6d50",
   "metadata": {},
   "outputs": [
    {
     "name": "stdout",
     "output_type": "stream",
     "text": [
      "250.0\n"
     ]
    }
   ],
   "source": [
    "print(watch/2)"
   ]
  },
  {
   "cell_type": "code",
   "execution_count": 3,
   "id": "7a7aa89a",
   "metadata": {},
   "outputs": [
    {
     "name": "stdout",
     "output_type": "stream",
     "text": [
      "500\n",
      "Karthi\n"
     ]
    }
   ],
   "source": [
    "name = 'Karthi'\n",
    "print(watch)\n",
    "print(name)"
   ]
  },
  {
   "cell_type": "code",
   "execution_count": 4,
   "id": "853d870d",
   "metadata": {},
   "outputs": [
    {
     "name": "stdout",
     "output_type": "stream",
     "text": [
      "hi dude\n"
     ]
    }
   ],
   "source": [
    "#STRINGS\n",
    "word = 'hi dude'\n",
    "print(word)"
   ]
  },
  {
   "cell_type": "code",
   "execution_count": 5,
   "id": "5a0804d5",
   "metadata": {},
   "outputs": [
    {
     "data": {
      "text/plain": [
       "'e'"
      ]
     },
     "execution_count": 5,
     "metadata": {},
     "output_type": "execute_result"
    }
   ],
   "source": [
    "#SLICING\n",
    "w = 'hello'\n",
    "w[1]"
   ]
  },
  {
   "cell_type": "code",
   "execution_count": 6,
   "id": "7902de66",
   "metadata": {},
   "outputs": [
    {
     "data": {
      "text/plain": [
       "'el'"
      ]
     },
     "execution_count": 6,
     "metadata": {},
     "output_type": "execute_result"
    }
   ],
   "source": [
    "w[1:3]"
   ]
  },
  {
   "cell_type": "code",
   "execution_count": 7,
   "id": "a1a25214",
   "metadata": {},
   "outputs": [
    {
     "data": {
      "text/plain": [
       "'el'"
      ]
     },
     "execution_count": 7,
     "metadata": {},
     "output_type": "execute_result"
    }
   ],
   "source": [
    "w[1:5:2]"
   ]
  },
  {
   "cell_type": "code",
   "execution_count": 8,
   "id": "8074ced5",
   "metadata": {},
   "outputs": [
    {
     "data": {
      "text/plain": [
       "'hell'"
      ]
     },
     "execution_count": 8,
     "metadata": {},
     "output_type": "execute_result"
    }
   ],
   "source": [
    "w[-5:-1]"
   ]
  },
  {
   "cell_type": "code",
   "execution_count": 9,
   "id": "60150685",
   "metadata": {},
   "outputs": [
    {
     "name": "stdout",
     "output_type": "stream",
     "text": [
      "5\n"
     ]
    }
   ],
   "source": [
    "print(len(w)) #---> length"
   ]
  },
  {
   "cell_type": "code",
   "execution_count": 10,
   "id": "fe7f3cbe",
   "metadata": {},
   "outputs": [
    {
     "name": "stdout",
     "output_type": "stream",
     "text": [
      "hi dude\n"
     ]
    }
   ],
   "source": [
    "word1 = '    hi dude   ' #----> clear space \n",
    "print(word1.strip())"
   ]
  },
  {
   "cell_type": "code",
   "execution_count": 11,
   "id": "a51f1f03",
   "metadata": {},
   "outputs": [
    {
     "name": "stdout",
     "output_type": "stream",
     "text": [
      "HELLO\n",
      "hello\n",
      "True\n"
     ]
    }
   ],
   "source": [
    "print(w.upper())\n",
    "print(w.lower())\n",
    "print(w.islower()) #---> is na true or false ah nu pakarathu"
   ]
  },
  {
   "cell_type": "code",
   "execution_count": 12,
   "id": "06b1937d",
   "metadata": {},
   "outputs": [
    {
     "name": "stdout",
     "output_type": "stream",
     "text": [
      "raju\n"
     ]
    }
   ],
   "source": [
    "a = 'raj'\n",
    "print(a.replace('j','ju'))"
   ]
  },
  {
   "cell_type": "code",
   "execution_count": 13,
   "id": "71fb825b",
   "metadata": {},
   "outputs": [
    {
     "name": "stdout",
     "output_type": "stream",
     "text": [
      "Raj\n"
     ]
    }
   ],
   "source": [
    "print(a.title())"
   ]
  },
  {
   "cell_type": "code",
   "execution_count": 14,
   "id": "f314d2f9",
   "metadata": {},
   "outputs": [
    {
     "name": "stdout",
     "output_type": "stream",
     "text": [
      "['r', 'j']\n"
     ]
    }
   ],
   "source": [
    "print(a.split('a'))"
   ]
  },
  {
   "cell_type": "code",
   "execution_count": 15,
   "id": "6bda6cd2",
   "metadata": {},
   "outputs": [
    {
     "name": "stdout",
     "output_type": "stream",
     "text": [
      "True\n"
     ]
    }
   ],
   "source": [
    "word2 = 'hello world'\n",
    "print('hell' in word2) #----> Boolean"
   ]
  },
  {
   "cell_type": "code",
   "execution_count": 16,
   "id": "5e07842b",
   "metadata": {},
   "outputs": [
    {
     "name": "stdout",
     "output_type": "stream",
     "text": [
      "False\n",
      "True\n"
     ]
    }
   ],
   "source": [
    "#BOOLEAN\n",
    "print(1>10)\n",
    "print(1<10)"
   ]
  },
  {
   "cell_type": "code",
   "execution_count": 17,
   "id": "3fb30dc8",
   "metadata": {},
   "outputs": [
    {
     "name": "stdout",
     "output_type": "stream",
     "text": [
      "10.0 10\n"
     ]
    }
   ],
   "source": [
    "#CASTING\n",
    "a =float(10)\n",
    "b = int(10.10)\n",
    "print(a, b)"
   ]
  },
  {
   "cell_type": "code",
   "execution_count": 18,
   "id": "ec1b7a94",
   "metadata": {},
   "outputs": [
    {
     "name": "stdout",
     "output_type": "stream",
     "text": [
      "10.0 10 120\n"
     ]
    }
   ],
   "source": [
    "#CASTING\n",
    "a =float(10)\n",
    "b = int(10.10)\n",
    "c = str(120)\n",
    "print(a, b,c)"
   ]
  },
  {
   "cell_type": "code",
   "execution_count": 19,
   "id": "f3f5cfe7",
   "metadata": {},
   "outputs": [
    {
     "data": {
      "text/plain": [
       "int"
      ]
     },
     "execution_count": 19,
     "metadata": {},
     "output_type": "execute_result"
    }
   ],
   "source": [
    "type(b)"
   ]
  },
  {
   "cell_type": "code",
   "execution_count": 20,
   "id": "ee52c033",
   "metadata": {},
   "outputs": [
    {
     "data": {
      "text/plain": [
       "float"
      ]
     },
     "execution_count": 20,
     "metadata": {},
     "output_type": "execute_result"
    }
   ],
   "source": [
    "type(a)"
   ]
  },
  {
   "cell_type": "code",
   "execution_count": 21,
   "id": "a853cb4c",
   "metadata": {},
   "outputs": [
    {
     "data": {
      "text/plain": [
       "str"
      ]
     },
     "execution_count": 21,
     "metadata": {},
     "output_type": "execute_result"
    }
   ],
   "source": [
    "type(c)"
   ]
  },
  {
   "cell_type": "code",
   "execution_count": 22,
   "id": "a583e0b6",
   "metadata": {},
   "outputs": [
    {
     "name": "stdout",
     "output_type": "stream",
     "text": [
      "['mango', 'apple', 'orange', 'banana']\n"
     ]
    }
   ],
   "source": [
    "#LIST[]\n",
    "fruits = ['mango','apple','orange','banana']\n",
    "print(fruits)"
   ]
  },
  {
   "cell_type": "code",
   "execution_count": 23,
   "id": "25690db8",
   "metadata": {},
   "outputs": [
    {
     "name": "stdout",
     "output_type": "stream",
     "text": [
      "['mango', 'apple', 'orange']\n"
     ]
    }
   ],
   "source": [
    "print(fruits[0:3])"
   ]
  },
  {
   "cell_type": "code",
   "execution_count": 24,
   "id": "7b5daaae",
   "metadata": {},
   "outputs": [
    {
     "name": "stdout",
     "output_type": "stream",
     "text": [
      "['mango', 'kiwi', 'orange', 'banana']\n",
      "4\n"
     ]
    }
   ],
   "source": [
    "fruits = ['mango','apple','orange','banana']\n",
    "fruits[1] = 'kiwi'\n",
    "print(fruits)\n",
    "print(len(fruits))"
   ]
  },
  {
   "cell_type": "code",
   "execution_count": 25,
   "id": "c24a736d",
   "metadata": {},
   "outputs": [
    {
     "name": "stdout",
     "output_type": "stream",
     "text": [
      "None\n",
      "['mango', 'kiwi', 'orange', 'banana', 'hahaha']\n",
      "5\n"
     ]
    }
   ],
   "source": [
    "print(fruits.append('hahaha'))\n",
    "print(fruits)\n",
    "print(len(fruits))"
   ]
  },
  {
   "cell_type": "code",
   "execution_count": 26,
   "id": "15777f9e",
   "metadata": {},
   "outputs": [
    {
     "name": "stdout",
     "output_type": "stream",
     "text": [
      "[0, 3, 5, 11]\n"
     ]
    }
   ],
   "source": [
    "num = [11,3,5,0]\n",
    "num.sort()\n",
    "print(num)"
   ]
  },
  {
   "cell_type": "code",
   "execution_count": 27,
   "id": "5e140788",
   "metadata": {},
   "outputs": [
    {
     "name": "stdout",
     "output_type": "stream",
     "text": [
      "[11, 5, 3, 0]\n"
     ]
    }
   ],
   "source": [
    "num1 = [11,3,5,0]\n",
    "num1.sort(reverse = True)\n",
    "print(num1)"
   ]
  },
  {
   "cell_type": "code",
   "execution_count": 28,
   "id": "f56f54e7",
   "metadata": {},
   "outputs": [
    {
     "name": "stdout",
     "output_type": "stream",
     "text": [
      "['mango', 'kiwi', 'orange', 'banana', 'hahaha', 0, 3, 5, 11]\n"
     ]
    }
   ],
   "source": [
    "add = fruits + num\n",
    "print(add)"
   ]
  },
  {
   "cell_type": "code",
   "execution_count": 29,
   "id": "84f6d1eb",
   "metadata": {},
   "outputs": [
    {
     "name": "stdout",
     "output_type": "stream",
     "text": [
      "('mango', 'apple', 'orange', 'banana')\n",
      "(11, 3, 5, 0)\n"
     ]
    }
   ],
   "source": [
    "#TUPLES()\n",
    "fruit = ('mango','apple','orange','banana')\n",
    "print(fruit)\n",
    "num = (11,3,5,0)\n",
    "print(num)"
   ]
  },
  {
   "cell_type": "code",
   "execution_count": 30,
   "id": "96a998ad",
   "metadata": {},
   "outputs": [
    {
     "name": "stdout",
     "output_type": "stream",
     "text": [
      "('mango', 'apple', 'orange', 'banana', 11, 3, 5, 0)\n"
     ]
    }
   ],
   "source": [
    "add1 = fruit + num\n",
    "print(add1)"
   ]
  },
  {
   "cell_type": "code",
   "execution_count": 31,
   "id": "c51461db",
   "metadata": {},
   "outputs": [
    {
     "name": "stdout",
     "output_type": "stream",
     "text": [
      "{'banana', 'apple', 'mango', 'orange'}\n"
     ]
    }
   ],
   "source": [
    "#SET{} ----> no indexes\n",
    "fruit2 = {'mango','apple','orange','banana'}\n",
    "print(fruit2)"
   ]
  },
  {
   "cell_type": "code",
   "execution_count": 32,
   "id": "77423b75",
   "metadata": {},
   "outputs": [
    {
     "name": "stdout",
     "output_type": "stream",
     "text": [
      "{'apple', 'kiwi', 'banana', 'mango', 'orange'}\n"
     ]
    }
   ],
   "source": [
    "fruit2.add('kiwi')\n",
    "print(fruit2)"
   ]
  },
  {
   "cell_type": "code",
   "execution_count": 33,
   "id": "90f2202e",
   "metadata": {},
   "outputs": [
    {
     "name": "stdout",
     "output_type": "stream",
     "text": [
      "24\n"
     ]
    }
   ],
   "source": [
    "#DICTINORY(KEYS & VALUES)\n",
    "my_data ={'Name':'Junu','age':'24'}\n",
    "print(my_data.get('age'))"
   ]
  },
  {
   "cell_type": "code",
   "execution_count": 34,
   "id": "e1bd4d3c",
   "metadata": {},
   "outputs": [
    {
     "name": "stdout",
     "output_type": "stream",
     "text": [
      "36\n"
     ]
    }
   ],
   "source": [
    "my_data ={'Name':'Junu','age':'24'}\n",
    "my_data['age']='36'\n",
    "print(my_data.get('age'))"
   ]
  },
  {
   "cell_type": "code",
   "execution_count": 35,
   "id": "3e7d91b3",
   "metadata": {},
   "outputs": [
    {
     "name": "stdout",
     "output_type": "stream",
     "text": [
      "yes\n"
     ]
    }
   ],
   "source": [
    "#IF,ELIF,ELSE CONDITIONS\n",
    "age = 20\n",
    "if age>18:\n",
    "    print('yes')"
   ]
  },
  {
   "cell_type": "code",
   "execution_count": 36,
   "id": "36030804",
   "metadata": {},
   "outputs": [
    {
     "name": "stdout",
     "output_type": "stream",
     "text": [
      "no you cant\n"
     ]
    }
   ],
   "source": [
    "age = 10\n",
    "if age>18:\n",
    "    print('yes you can vote')\n",
    "else:\n",
    "    print('no you cant')"
   ]
  },
  {
   "cell_type": "code",
   "execution_count": 37,
   "id": "493e05e1",
   "metadata": {},
   "outputs": [
    {
     "name": "stdout",
     "output_type": "stream",
     "text": [
      "you can apply now\n"
     ]
    }
   ],
   "source": [
    "age = 18\n",
    "if age>18:\n",
    "    print('yes you can vote')\n",
    "elif age == 18:\n",
    "    print('you can apply now')\n",
    "else:\n",
    "    print('no you cant')"
   ]
  },
  {
   "cell_type": "code",
   "execution_count": 38,
   "id": "9adc179d",
   "metadata": {},
   "outputs": [
    {
     "name": "stdout",
     "output_type": "stream",
     "text": [
      "incorrect\n"
     ]
    }
   ],
   "source": [
    "a,b = 10,20\n",
    "if a == 10 and b==10:\n",
    "    print('correct')\n",
    "else:\n",
    "    print('incorrect')"
   ]
  },
  {
   "cell_type": "code",
   "execution_count": 39,
   "id": "67d37831",
   "metadata": {},
   "outputs": [
    {
     "name": "stdout",
     "output_type": "stream",
     "text": [
      "correct\n"
     ]
    }
   ],
   "source": [
    "a,b = 10,20\n",
    "if a == 10 or b==10:\n",
    "    print('correct')\n",
    "else:\n",
    "    print('incorrect')"
   ]
  },
  {
   "cell_type": "code",
   "execution_count": 40,
   "id": "6d2497cb",
   "metadata": {},
   "outputs": [
    {
     "name": "stdout",
     "output_type": "stream",
     "text": [
      "correct\n",
      "hello\n"
     ]
    }
   ],
   "source": [
    "#NESTED IF\n",
    "a,b = 10,20\n",
    "if a==10 or b==10:\n",
    "    print('correct')\n",
    "    if b==20:\n",
    "        print('hello')\n",
    "else:\n",
    "    print('incorrect')"
   ]
  },
  {
   "cell_type": "code",
   "execution_count": 41,
   "id": "c881320b",
   "metadata": {},
   "outputs": [
    {
     "name": "stdout",
     "output_type": "stream",
     "text": [
      "29\n",
      "29\n"
     ]
    }
   ],
   "source": [
    "#FUNCTIONS(def)\n",
    "def add():\n",
    "    a = 13\n",
    "    b = 16\n",
    "    print(a+b)\n",
    "add()\n",
    "add()"
   ]
  },
  {
   "cell_type": "code",
   "execution_count": 42,
   "id": "ce0753e6",
   "metadata": {},
   "outputs": [
    {
     "name": "stdout",
     "output_type": "stream",
     "text": [
      "93\n"
     ]
    }
   ],
   "source": [
    "def add(a,b):\n",
    "    print(a+b)\n",
    "add(15,78)"
   ]
  },
  {
   "cell_type": "code",
   "execution_count": 43,
   "id": "bd3a6da3",
   "metadata": {},
   "outputs": [
    {
     "name": "stdout",
     "output_type": "stream",
     "text": [
      "114\n",
      "-82\n"
     ]
    }
   ],
   "source": [
    "def add(a,b):\n",
    "    print(a+b)\n",
    "def subb(a,b):\n",
    "    print(a-b)\n",
    "add(16,98)\n",
    "subb(16,98)"
   ]
  },
  {
   "cell_type": "code",
   "execution_count": 44,
   "id": "9f42ee3b",
   "metadata": {},
   "outputs": [
    {
     "name": "stdout",
     "output_type": "stream",
     "text": [
      "hi,junu\n"
     ]
    }
   ],
   "source": [
    "def hi(name):\n",
    "    print('hi,' + name)\n",
    "hi('junu')"
   ]
  },
  {
   "cell_type": "code",
   "execution_count": 45,
   "id": "6069c28b",
   "metadata": {},
   "outputs": [
    {
     "data": {
      "text/plain": [
       "700"
      ]
     },
     "execution_count": 45,
     "metadata": {},
     "output_type": "execute_result"
    }
   ],
   "source": [
    "def fun(a):\n",
    "    return a*100\n",
    "fun(7)"
   ]
  },
  {
   "cell_type": "code",
   "execution_count": 46,
   "id": "5636c043",
   "metadata": {},
   "outputs": [
    {
     "name": "stdout",
     "output_type": "stream",
     "text": [
      "j\n",
      "jjjjj\n",
      "u\n",
      "uuuuu\n",
      "n\n",
      "nnnnn\n",
      "u\n",
      "uuuuu\n"
     ]
    }
   ],
   "source": [
    "#LOOPS\n",
    "#FOR LOOP\n",
    "name = 'junu'\n",
    "for i in name:\n",
    "    print(i)\n",
    "    print(i*5)\n"
   ]
  },
  {
   "cell_type": "code",
   "execution_count": 47,
   "id": "aa343cc3",
   "metadata": {},
   "outputs": [
    {
     "name": "stdout",
     "output_type": "stream",
     "text": [
      "mango\n",
      "apple\n",
      "orange\n",
      "banana\n"
     ]
    }
   ],
   "source": [
    "fruits = ['mango','apple','orange','banana']\n",
    "for i in fruits:\n",
    "    print(i)"
   ]
  },
  {
   "cell_type": "code",
   "execution_count": 48,
   "id": "2b709b16",
   "metadata": {},
   "outputs": [
    {
     "name": "stdout",
     "output_type": "stream",
     "text": [
      " is not present\n",
      " is not present\n",
      " is not present\n",
      " is not present\n"
     ]
    }
   ],
   "source": [
    "fruits = ['mango','apple','orange','banana']\n",
    "for i in fruits:\n",
    "    if i == 'kiwi':\n",
    "        print(' is present')\n",
    "    else:\n",
    "        print(' is not present')"
   ]
  },
  {
   "cell_type": "code",
   "execution_count": 49,
   "id": "05e506e0",
   "metadata": {},
   "outputs": [
    {
     "name": "stdout",
     "output_type": "stream",
     "text": [
      "is present\n",
      "is not present\n",
      "is not present\n",
      "is not present\n"
     ]
    }
   ],
   "source": [
    "fruits = ['mango','apple','orange','banana']\n",
    "for i in fruits:\n",
    "    if i == 'mango':\n",
    "        print('is present')\n",
    "    else:\n",
    "        print('is not present')"
   ]
  },
  {
   "cell_type": "code",
   "execution_count": 50,
   "id": "2c6a245c",
   "metadata": {},
   "outputs": [
    {
     "name": "stdout",
     "output_type": "stream",
     "text": [
      "is present\n"
     ]
    }
   ],
   "source": [
    "fruits = ['mango','apple','orange','banana']\n",
    "for i in fruits:\n",
    "    if i == 'mango':\n",
    "        print('is present')\n",
    "        break\n",
    "    else:\n",
    "        print('is not present')"
   ]
  },
  {
   "cell_type": "code",
   "execution_count": 51,
   "id": "d1f4e661",
   "metadata": {},
   "outputs": [
    {
     "name": "stdout",
     "output_type": "stream",
     "text": [
      "is not present\n",
      "is not present\n",
      "is not present\n"
     ]
    }
   ],
   "source": [
    "fruits = ['mango','apple','orange','banana']\n",
    "for i in fruits:\n",
    "    if i == 'mango':\n",
    "        continue\n",
    "        print('is present')  #----> continue kuduthom na intha condition work agathu     \n",
    "    else:\n",
    "        print('is not present')"
   ]
  },
  {
   "cell_type": "code",
   "execution_count": 52,
   "id": "05987a96",
   "metadata": {},
   "outputs": [
    {
     "name": "stdout",
     "output_type": "stream",
     "text": [
      "0\n",
      "1\n",
      "2\n",
      "3\n",
      "4\n",
      "5\n"
     ]
    }
   ],
   "source": [
    "#RANGE\n",
    "for i in range(6):\n",
    "    print(i)"
   ]
  },
  {
   "cell_type": "code",
   "execution_count": 53,
   "id": "3afd8a20",
   "metadata": {},
   "outputs": [
    {
     "name": "stdout",
     "output_type": "stream",
     "text": [
      "2\n",
      "3\n",
      "4\n",
      "5\n",
      "6\n"
     ]
    }
   ],
   "source": [
    "for i in range(2,7):\n",
    "    print(i)"
   ]
  },
  {
   "cell_type": "code",
   "execution_count": 54,
   "id": "998bdee8",
   "metadata": {},
   "outputs": [
    {
     "name": "stdout",
     "output_type": "stream",
     "text": [
      "10\n",
      "15\n",
      "20\n",
      "25\n"
     ]
    }
   ],
   "source": [
    "for i in range(10,30,5):#---->start,end,step\n",
    "    print(i)"
   ]
  },
  {
   "cell_type": "code",
   "execution_count": 55,
   "id": "5bd2d014",
   "metadata": {},
   "outputs": [
    {
     "name": "stdout",
     "output_type": "stream",
     "text": [
      "0\n",
      "1\n",
      "2\n",
      "3\n",
      "4\n",
      "Finished\n"
     ]
    }
   ],
   "source": [
    "for i in range(5):\n",
    "    print(i)\n",
    "else:\n",
    "    print('Finished')"
   ]
  },
  {
   "cell_type": "code",
   "execution_count": 56,
   "id": "89d86ee2",
   "metadata": {},
   "outputs": [
    {
     "name": "stdout",
     "output_type": "stream",
     "text": [
      "0\n",
      "0\n",
      "1\n",
      "1\n",
      "0\n",
      "1\n",
      "2\n",
      "0\n",
      "1\n",
      "3\n",
      "0\n",
      "1\n",
      "4\n",
      "0\n",
      "1\n",
      "Finished\n"
     ]
    }
   ],
   "source": [
    "for i in range(5):\n",
    "    print(i)\n",
    "    for num in range(2):\n",
    "        print(num)\n",
    "else:\n",
    "    print('Finished')"
   ]
  },
  {
   "cell_type": "code",
   "execution_count": 57,
   "id": "fa9b67a7",
   "metadata": {},
   "outputs": [
    {
     "name": "stdout",
     "output_type": "stream",
     "text": [
      "2\n",
      "3\n",
      "4\n",
      "Done\n"
     ]
    }
   ],
   "source": [
    "#WHILE LOOPS\n",
    "i = 2\n",
    "while i<5:\n",
    "    print(i)\n",
    "    i += 1\n",
    "else:\n",
    "    print('Done')"
   ]
  },
  {
   "cell_type": "code",
   "execution_count": 62,
   "id": "96fbb3e2",
   "metadata": {},
   "outputs": [
    {
     "name": "stdout",
     "output_type": "stream",
     "text": [
      "100\n"
     ]
    }
   ],
   "source": [
    "#LAMBDA FUNCTIONS\n",
    "mul = lambda numb:numb*10\n",
    "print(mul(10))"
   ]
  },
  {
   "cell_type": "code",
   "execution_count": 68,
   "id": "0db384c0",
   "metadata": {},
   "outputs": [
    {
     "name": "stdout",
     "output_type": "stream",
     "text": [
      "Type your namejayaseelan\n",
      "hi i am jayaseelan\n"
     ]
    }
   ],
   "source": [
    "#INPUT USERS DATA\n",
    "name1 = input('Type your name')\n",
    "print('hi i am ' +name1)"
   ]
  },
  {
   "cell_type": "code",
   "execution_count": 67,
   "id": "75f04bd6",
   "metadata": {},
   "outputs": [
    {
     "name": "stdout",
     "output_type": "stream",
     "text": [
      "Enter num114\n",
      "enter num256\n",
      "70\n"
     ]
    }
   ],
   "source": [
    "num1 = int(input('Enter num1'))\n",
    "num2 = int(input('enter num2'))\n",
    "print(num1+num2)"
   ]
  },
  {
   "cell_type": "code",
   "execution_count": 75,
   "id": "d7546a89",
   "metadata": {},
   "outputs": [
    {
     "name": "stdout",
     "output_type": "stream",
     "text": [
      " Select operation\n",
      "1.add\n",
      "2.sub\n",
      "3.mul\n",
      "4.div\n",
      "\n",
      "Enter your choice 2\n",
      "Enter a numb 10\n",
      "Enter a numb 3\n",
      "7\n"
     ]
    }
   ],
   "source": [
    "#SIMPLE CALCULATOR\n",
    "def add(a,b):\n",
    "    return(a+b)\n",
    "def sub(a,b):\n",
    "    return(a-b)\n",
    "def mul(a,b):\n",
    "    return(a*b)\n",
    "def div(a,b):\n",
    "    return(a/b)\n",
    "print(\"\"\" Select operation\n",
    "1.add\n",
    "2.sub\n",
    "3.mul\n",
    "4.div\n",
    "\"\"\")\n",
    "choice = int(input('Enter your choice'))\n",
    "a = int(input('Enter a numb'))\n",
    "b = int(input('Enter a numb'))\n",
    "if choice == 1:\n",
    "    print(add(a,b))\n",
    "elif choice == 2:\n",
    "    print(sub(a,b))\n",
    "elif choice == 3:\n",
    "    print(mul(a,b))\n",
    "elif choice == 4:\n",
    "    print(div(a,b))\n",
    "else:\n",
    "    print('Out of the choice')"
   ]
  },
  {
   "cell_type": "code",
   "execution_count": 76,
   "id": "1a20038d",
   "metadata": {},
   "outputs": [
    {
     "name": "stdout",
     "output_type": "stream",
     "text": [
      "what year you birth2001\n",
      "your age is 21\n"
     ]
    }
   ],
   "source": [
    "born = input('what year you birth')\n",
    "born = int(born)\n",
    "age = 2022 - born\n",
    "print('your age is',age)"
   ]
  },
  {
   "cell_type": "code",
   "execution_count": 79,
   "id": "884ec036",
   "metadata": {
    "scrolled": true
   },
   "outputs": [
    {
     "name": "stdout",
     "output_type": "stream",
     "text": [
      "My home is ---/\n"
     ]
    },
    {
     "ename": "ValueError",
     "evalue": "complex() arg is a malformed string",
     "output_type": "error",
     "traceback": [
      "\u001b[1;31m---------------------------------------------------------------------------\u001b[0m",
      "\u001b[1;31mValueError\u001b[0m                                Traceback (most recent call last)",
      "\u001b[1;32m~\\AppData\\Local\\Temp/ipykernel_11212/1050300365.py\u001b[0m in \u001b[0;36m<module>\u001b[1;34m\u001b[0m\n\u001b[1;32m----> 1\u001b[1;33m \u001b[0mhome\u001b[0m \u001b[1;33m=\u001b[0m \u001b[0mcomplex\u001b[0m\u001b[1;33m(\u001b[0m\u001b[0minput\u001b[0m\u001b[1;33m(\u001b[0m\u001b[1;34m'My home is'\u001b[0m\u001b[1;33m)\u001b[0m\u001b[1;33m)\u001b[0m\u001b[1;33m\u001b[0m\u001b[1;33m\u001b[0m\u001b[0m\n\u001b[0m",
      "\u001b[1;31mValueError\u001b[0m: complex() arg is a malformed string"
     ]
    }
   ],
   "source": [
    "home = complex(input('My home is'))"
   ]
  },
  {
   "cell_type": "code",
   "execution_count": null,
   "id": "fc2b704d",
   "metadata": {},
   "outputs": [],
   "source": []
  }
 ],
 "metadata": {
  "kernelspec": {
   "display_name": "Python 3 (ipykernel)",
   "language": "python",
   "name": "python3"
  },
  "language_info": {
   "codemirror_mode": {
    "name": "ipython",
    "version": 3
   },
   "file_extension": ".py",
   "mimetype": "text/x-python",
   "name": "python",
   "nbconvert_exporter": "python",
   "pygments_lexer": "ipython3",
   "version": "3.10.1"
  }
 },
 "nbformat": 4,
 "nbformat_minor": 5
}
